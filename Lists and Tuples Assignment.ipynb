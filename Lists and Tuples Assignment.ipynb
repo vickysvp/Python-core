{
 "cells": [
  {
   "cell_type": "markdown",
   "id": "352d5498",
   "metadata": {
    "ExecuteTime": {
     "end_time": "2023-02-22T11:14:23.266010Z",
     "start_time": "2023-02-22T11:14:23.250661Z"
    }
   },
   "source": [
    "# <p style=\"color:green\"> LISTS AND TUPLES ASSIGNMENT <p/>"
   ]
  },
  {
   "cell_type": "markdown",
   "id": "a6b138f6",
   "metadata": {},
   "source": [
    "1. >**Write a python program to create a tuple of numbers and print the sum of all the elements**"
   ]
  },
  {
   "cell_type": "code",
   "execution_count": 2,
   "id": "e7b64f1a",
   "metadata": {
    "ExecuteTime": {
     "end_time": "2023-02-23T10:47:12.513872Z",
     "start_time": "2023-02-23T10:47:12.504572Z"
    }
   },
   "outputs": [
    {
     "name": "stdout",
     "output_type": "stream",
     "text": [
      " The sum of all the elements of the tuple is : 39\n"
     ]
    }
   ],
   "source": [
    "#lets create a tuple\n",
    "\n",
    "tuple1=4,5,6,7,8,9\n",
    "print(f' The sum of all the elements of the tuple is : {sum(tuple1)}')"
   ]
  },
  {
   "cell_type": "markdown",
   "id": "38aa777a",
   "metadata": {},
   "source": [
    "2. > **Write a python program to create a list of strings and sort them in alphabetical order.**"
   ]
  },
  {
   "cell_type": "code",
   "execution_count": 3,
   "id": "fd0919d9",
   "metadata": {
    "ExecuteTime": {
     "end_time": "2023-02-23T10:47:16.397710Z",
     "start_time": "2023-02-23T10:47:16.386551Z"
    }
   },
   "outputs": [
    {
     "name": "stdout",
     "output_type": "stream",
     "text": [
      "['s', 'a', 'k', 'i', 'v']\n",
      "sorted in alphabetical order['v', 's', 'k', 'i', 'a']\n"
     ]
    }
   ],
   "source": [
    "#lets create a list of strings\n",
    "\n",
    "l=['s','a','k','i','v']\n",
    "l.sort\n",
    "\n",
    "print(l)\n",
    "print(f'sorted in alphabetical order{sorted(l,reverse=True)}')"
   ]
  },
  {
   "cell_type": "markdown",
   "id": "9b928629",
   "metadata": {},
   "source": [
    "3. >**Write a python program to find the maximum and minimum value in a tuple of numbers.**"
   ]
  },
  {
   "cell_type": "code",
   "execution_count": 4,
   "id": "ca50b5d1",
   "metadata": {
    "ExecuteTime": {
     "end_time": "2023-02-23T10:47:19.255645Z",
     "start_time": "2023-02-23T10:47:19.248713Z"
    }
   },
   "outputs": [
    {
     "name": "stdout",
     "output_type": "stream",
     "text": [
      "The maximum number of the tuple is:36\n",
      "The minimum number of the tuple is:3\n"
     ]
    }
   ],
   "source": [
    "tupl=(7,9,6,3,4,12,23,8,36)\n",
    "\n",
    "print(f'The maximum number of the tuple is:{max(tupl)}\\nThe minimum number of the tuple is:{min(tupl)}')"
   ]
  },
  {
   "cell_type": "markdown",
   "id": "dbe8260b",
   "metadata": {},
   "source": [
    "4. >**Write a python program to create a list of number and print only even numbers**.\n",
    "\n"
   ]
  },
  {
   "cell_type": "code",
   "execution_count": 5,
   "id": "25c9a399",
   "metadata": {
    "ExecuteTime": {
     "end_time": "2023-02-23T10:47:21.477112Z",
     "start_time": "2023-02-23T10:47:21.460624Z"
    }
   },
   "outputs": [
    {
     "name": "stdout",
     "output_type": "stream",
     "text": [
      "The Even numbers of the list1 are:(2, 4, 6, 8)\n",
      "The odd numbers of the list2 are:(1, 3, 5, 7, 9)\n"
     ]
    }
   ],
   "source": [
    "#lets create a list of numbers\n",
    "\n",
    "list1=(1,2,3,4,5,6,7,8)\n",
    "print(f'The Even numbers of the list1 are:{list1[1:8:2]}')\n",
    "\n",
    "list2=(1,2,3,4,5,6,7,8,9,10)\n",
    "print(f'The odd numbers of the list2 are:{list2[0:10:2]}')"
   ]
  },
  {
   "cell_type": "markdown",
   "id": "d7575352",
   "metadata": {},
   "source": [
    "5. >**Write a python program to create a tuple of mixed data types and print the type of each element of the tuple.**"
   ]
  },
  {
   "cell_type": "code",
   "execution_count": 6,
   "id": "510c715a",
   "metadata": {
    "ExecuteTime": {
     "end_time": "2023-02-23T10:47:23.122116Z",
     "start_time": "2023-02-23T10:47:23.105645Z"
    }
   },
   "outputs": [
    {
     "name": "stdout",
     "output_type": "stream",
     "text": [
      "The data type of the given element is:<class 'int'>\n",
      "The data type of the given element is:<class 'float'>\n",
      "The data type of the given element is:<class 'str'>\n",
      "The data type of the given element is:<class 'bool'>\n"
     ]
    }
   ],
   "source": [
    "#lets create a mixed datatype tuple\n",
    "\n",
    "tupl=(True,6.8,4,10,'vikas',7)\n",
    "print(f'The data type of the given element is:{type(tupl[3])}')\n",
    "print(f'The data type of the given element is:{type(tupl[1])}')\n",
    "print(f'The data type of the given element is:{type(tupl[4])}')\n",
    "print(f'The data type of the given element is:{type(tupl[0])}')"
   ]
  },
  {
   "cell_type": "markdown",
   "id": "633fd369",
   "metadata": {},
   "source": [
    "6. >**Write a python program to remove duplicates from list.**"
   ]
  },
  {
   "cell_type": "code",
   "execution_count": 7,
   "id": "ee938323",
   "metadata": {
    "ExecuteTime": {
     "end_time": "2023-02-23T10:47:24.854241Z",
     "start_time": "2023-02-23T10:47:24.838098Z"
    }
   },
   "outputs": [
    {
     "name": "stdout",
     "output_type": "stream",
     "text": [
      "To remove the duplicate numbers of the list:{1, 2, 3, 4, 5, 7.6}\n"
     ]
    }
   ],
   "source": [
    "#lets create a list\n",
    "\n",
    "list1=[1,2,3,4,5,5,7.6,5,7.6]\n",
    "my_list=set(list1)\n",
    "\n",
    "print(f'To remove the duplicate numbers of the list:{my_list}')\n"
   ]
  },
  {
   "cell_type": "markdown",
   "id": "b9452669",
   "metadata": {},
   "source": [
    "7. >**Write a python program to reverse a tuple.**"
   ]
  },
  {
   "cell_type": "code",
   "execution_count": 8,
   "id": "bddfa106",
   "metadata": {
    "ExecuteTime": {
     "end_time": "2023-02-23T10:47:26.405026Z",
     "start_time": "2023-02-23T10:47:26.390059Z"
    },
    "scrolled": true
   },
   "outputs": [
    {
     "name": "stdout",
     "output_type": "stream",
     "text": [
      "To reverse the tuple:[10, 9, 8, 7, 6, 5, 4, 3, 2, 1]\n"
     ]
    }
   ],
   "source": [
    "#lets create a tuple\n",
    "\n",
    "tupl=(1,2,3,4,5,6,7,8,9,10)\n",
    "print(f'To reverse the tuple:{sorted(tupl,reverse=True)}')"
   ]
  },
  {
   "cell_type": "markdown",
   "id": "04b20b63",
   "metadata": {},
   "source": [
    "8. >**Write a python program to find the second largest number in the list.**\n",
    "\n"
   ]
  },
  {
   "cell_type": "code",
   "execution_count": 9,
   "id": "8066fc71",
   "metadata": {
    "ExecuteTime": {
     "end_time": "2023-02-23T10:47:27.921609Z",
     "start_time": "2023-02-23T10:47:27.910469Z"
    }
   },
   "outputs": [
    {
     "name": "stdout",
     "output_type": "stream",
     "text": [
      "To find the second largest number in the list:8\n"
     ]
    }
   ],
   "source": [
    "#lets create a list \n",
    "list1=[9,7,0,6,8,2,1]\n",
    "print(f'To find the second largest number in the list:{list1.pop(4)}')"
   ]
  },
  {
   "cell_type": "markdown",
   "id": "a965a1e4",
   "metadata": {},
   "source": [
    "9. >_**Write a python program to create a list of tuple and sort them based on the second element in each tuple.**_"
   ]
  },
  {
   "cell_type": "code",
   "execution_count": 10,
   "id": "8e9441a1",
   "metadata": {
    "ExecuteTime": {
     "end_time": "2023-02-23T10:47:29.453669Z",
     "start_time": "2023-02-23T10:47:29.433788Z"
    }
   },
   "outputs": [
    {
     "name": "stdout",
     "output_type": "stream",
     "text": [
      "sorted using second element in each tuple:[(3, 'Bahubali'), (1, 'KGF'), (5, 'Major'), (2, 'RRR'), (4, 'pushpa')]\n"
     ]
    }
   ],
   "source": [
    "#lets create a list of tuple\n",
    "\n",
    "list2=[(1,'KGF'),(2,'RRR'),(3,'Bahubali'),(4,'pushpa'),(5,'Major')]\n",
    "\n",
    "print(f'sorted using second element in each tuple:{(sorted(list2,key=lambda x:x[1]))}')\n",
    "\n"
   ]
  },
  {
   "cell_type": "markdown",
   "id": "52f801af",
   "metadata": {},
   "source": [
    "10. >_**Write a python program to convert a tuple to a list and vice versa.**_\n",
    "\n"
   ]
  },
  {
   "cell_type": "code",
   "execution_count": 11,
   "id": "070faee1",
   "metadata": {
    "ExecuteTime": {
     "end_time": "2023-02-23T10:47:30.878711Z",
     "start_time": "2023-02-23T10:47:30.867598Z"
    }
   },
   "outputs": [
    {
     "name": "stdout",
     "output_type": "stream",
     "text": [
      "Converting a tuple into list:[1, 2, 3, 4, 5, 6]\n",
      "Converting a list into tuple:(9, 8, 7, 6, 5, 4)\n"
     ]
    }
   ],
   "source": [
    "#lets create a tuple\n",
    "tuple_1=(1,2,3,4,5,6)\n",
    "print(f'Converting a tuple into list:{list(tuple_1)}')\n",
    "\n",
    "#lets create a list\n",
    "list_1=[9,8,7,6,5,4]\n",
    "print(f'Converting a list into tuple:{tuple(list_1)}')\n"
   ]
  }
 ],
 "metadata": {
  "kernelspec": {
   "display_name": "Python 3 (ipykernel)",
   "language": "python",
   "name": "python3"
  },
  "language_info": {
   "codemirror_mode": {
    "name": "ipython",
    "version": 3
   },
   "file_extension": ".py",
   "mimetype": "text/x-python",
   "name": "python",
   "nbconvert_exporter": "python",
   "pygments_lexer": "ipython3",
   "version": "3.9.13"
  }
 },
 "nbformat": 4,
 "nbformat_minor": 5
}
